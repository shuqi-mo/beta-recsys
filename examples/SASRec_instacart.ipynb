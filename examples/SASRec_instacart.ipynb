{
 "cells": [
  {
   "cell_type": "markdown",
   "metadata": {},
   "source": [
    "## Loading dataset"
   ]
  },
  {
   "cell_type": "code",
   "execution_count": null,
   "metadata": {},
   "outputs": [
    {
     "name": "stdout",
     "output_type": "stream",
     "text": [
      "Start loading data from raw data\n",
      "Loading raw data completed\n",
      "Start loading data from raw data\n",
      "Loading raw data completed\n",
      "--------------------------------------------------------------------------------\n",
      "Raw interaction statistics\n",
      "+---------+------------+------------+--------------+-----------------+-------------+\n",
      "|         | col_user   | col_item   | col_rating   | col_timestamp   | col_order   |\n",
      "|---------+------------+------------+--------------+-----------------+-------------|\n",
      "| count   | 33819106   | 33819106   | 33819106     | 33819106        | 33819106    |\n",
      "| nunique | 206209     | 49685      | 1            | 33819106        | 3346083     |\n",
      "+---------+------------+------------+--------------+-----------------+-------------+\n",
      "--------------------------------------------------------------------------------\n",
      "filter_user_item_order under condition min_u_c=30, min_i_c=20, min_o_c=10\n",
      "--------------------------------------------------------------------------------\n",
      "Dataset statistics before filter\n",
      "+---------+------------+------------+--------------+-----------------+-------------+\n",
      "|         | col_user   | col_item   | col_rating   | col_timestamp   | col_order   |\n",
      "|---------+------------+------------+--------------+-----------------+-------------|\n",
      "| count   | 33819106   | 33819106   | 33819106     | 33819106        | 33819106    |\n",
      "| nunique | 206209     | 49685      | 1            | 33819106        | 3346083     |\n",
      "+---------+------------+------------+--------------+-----------------+-------------+\n",
      "Dataset statistics after filter\n",
      "+---------+------------+------------+--------------+-----------------+-------------+\n",
      "|         | col_user   | col_item   | col_rating   | col_timestamp   | col_order   |\n",
      "|---------+------------+------------+--------------+-----------------+-------------|\n",
      "| count   | 27396691   | 27396691   | 27396691     | 27396691        | 27396691    |\n",
      "| nunique | 100544     | 23836      | 1            | 27396691        | 2654653     |\n",
      "+---------+------------+------------+--------------+-----------------+-------------+\n",
      "--------------------------------------------------------------------------------\n",
      "--------------------------------------------------------------------------------\n",
      "Interaction statistics after filtering -- min_u_c:30, min_i_c:20, min_o_c:10.\n",
      "+---------+------------+------------+--------------+-----------------+-------------+\n",
      "|         | col_user   | col_item   | col_rating   | col_timestamp   | col_order   |\n",
      "|---------+------------+------------+--------------+-----------------+-------------|\n",
      "| count   | 27396691   | 27396691   | 27396691     | 27396691        | 27396691    |\n",
      "| nunique | 100544     | 23836      | 1            | 27396691        | 2654653     |\n",
      "+---------+------------+------------+--------------+-----------------+-------------+\n",
      "--------------------------------------------------------------------------------\n",
      "Splitting data by temporal_basket ...\n",
      "temporal_split_basket\n",
      "Data is dumped in : /home/zm324/anaconda3/envs/beta_rec/lib/python3.6/site-packages/datasets/instacart/processed/temporal_basket/full_test_rate_20_n_neg_100/train.npz\n",
      "Data is dumped in : /home/zm324/anaconda3/envs/beta_rec/lib/python3.6/site-packages/datasets/instacart/processed/temporal_basket/full_test_rate_20_n_neg_100/valid.npz\n",
      "Data is dumped in : /home/zm324/anaconda3/envs/beta_rec/lib/python3.6/site-packages/datasets/instacart/processed/temporal_basket/full_test_rate_20_n_neg_100/test.npz\n",
      "Filling alias table\n",
      "Data is dumped in : /home/zm324/anaconda3/envs/beta_rec/lib/python3.6/site-packages/datasets/instacart/processed/temporal_basket/full_test_rate_20_n_neg_100/valid_0.npz\n",
      "Data is dumped in : /home/zm324/anaconda3/envs/beta_rec/lib/python3.6/site-packages/datasets/instacart/processed/temporal_basket/full_test_rate_20_n_neg_100/test_0.npz\n"
     ]
    }
   ],
   "source": [
    "from beta_rec.datasets.instacart import Instacart\n",
    "from beta_rec.data.sequential_data import SequentialData\n",
    "\n",
    "dataset = Instacart(min_u_c=30,min_i_c=20,min_o_c=10)\n",
    "split_dataset = dataset.load_temporal_basket_split(test_rate=0.2)\n",
    "data = SequentialData(split_dataset)"
   ]
  },
  {
   "cell_type": "markdown",
   "metadata": {},
   "source": [
    "### Model config"
   ]
  },
  {
   "cell_type": "code",
   "execution_count": null,
   "metadata": {},
   "outputs": [],
   "source": [
    "config = {\"config_file\": \"../configs/sasrec_default.json\",\n",
    "          \"device\":\"gpu\",\n",
    "          \"emb_dim\":64,\n",
    "          \"num_blocks\": 2,\n",
    "          \"num_heads\": 2,\n",
    "          \"lr\": 0.5,\n",
    "          \"dropout_rate\":0.1\n",
    "         }\n",
    "# the 'config_file' key is required, that is used load a default config.\n",
    "# Other keys can be specified to replace the default settings."
   ]
  },
  {
   "cell_type": "markdown",
   "metadata": {},
   "source": [
    "### Model intialization and training"
   ]
  },
  {
   "cell_type": "code",
   "execution_count": null,
   "metadata": {},
   "outputs": [],
   "source": [
    "from beta_rec.recommenders import SASRec\n",
    "\n",
    "model = SASRec(config)\n",
    "model.train(data)"
   ]
  },
  {
   "cell_type": "markdown",
   "metadata": {},
   "source": [
    "### Model Tunning"
   ]
  },
  {
   "cell_type": "code",
   "execution_count": null,
   "metadata": {},
   "outputs": [],
   "source": [
    "from beta_rec.recommenders import SASRec\n",
    "from beta_rec.datasets.movielens import Movielens_1m,Movielens_100k\n",
    "from beta_rec.data.sequential_data import SequentialData\n",
    "\n",
    "dataset = Movielens_100k()\n",
    "split_dataset = dataset.load_leave_one_out(n_test=1)\n",
    "data = SequentialData(split_dataset)\n",
    "\n",
    "\n",
    "config = {\"config_file\": \"./sasrec_default.json\",\n",
    "          \"device\":\"gpu\",\n",
    "          \"tune\":True\n",
    "         }\n",
    "model = SASRec(config)\n",
    "model.train(data)"
   ]
  }
 ],
 "metadata": {
  "kernelspec": {
   "display_name": "beta_rec",
   "language": "python",
   "name": "beta_rec"
  },
  "language_info": {
   "codemirror_mode": {
    "name": "ipython",
    "version": 3
   },
   "file_extension": ".py",
   "mimetype": "text/x-python",
   "name": "python",
   "nbconvert_exporter": "python",
   "pygments_lexer": "ipython3",
   "version": "3.6.9"
  }
 },
 "nbformat": 4,
 "nbformat_minor": 4
}
