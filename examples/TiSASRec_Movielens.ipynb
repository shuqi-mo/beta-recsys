{
 "cells": [
  {
   "cell_type": "markdown",
   "metadata": {},
   "source": [
    "## Loading dataset"
   ]
  },
  {
   "cell_type": "code",
   "execution_count": 1,
   "metadata": {},
   "outputs": [
    {
     "name": "stdout",
     "output_type": "stream",
     "text": [
      "--------------------------------------------------------------------------------\n",
      "Loaded training set statistics\n",
      "+---------+------------+------------+--------------+-----------------+\n",
      "|         | col_user   | col_item   | col_rating   | col_timestamp   |\n",
      "|---------+------------+------------+--------------+-----------------|\n",
      "| count   | 799933     | 799933     | 799933       | 799933          |\n",
      "| nunique | 5400       | 3497       | 5            | 347456          |\n",
      "+---------+------------+------------+--------------+-----------------+\n",
      "valid_data_0 statistics\n",
      "+---------+------------+------------+--------------+-----------------+\n",
      "|         | col_user   | col_item   | col_rating   | col_timestamp   |\n",
      "|---------+------------+------------+--------------+-----------------|\n",
      "| count   | 111332     | 111332     | 111332       | 111332          |\n",
      "| nunique | 1134       | 3296       | 6            | 1               |\n",
      "+---------+------------+------------+--------------+-----------------+\n",
      "test_data_0 statistics\n",
      "+---------+------------+------------+--------------+-----------------+\n",
      "|         | col_user   | col_item   | col_rating   | col_timestamp   |\n",
      "|---------+------------+------------+--------------+-----------------|\n",
      "| count   | 112082     | 112082     | 112082       | 112082          |\n",
      "| nunique | 1209       | 3378       | 6            | 1               |\n",
      "+---------+------------+------------+--------------+-----------------+\n",
      "--------------------------------------------------------------------------------\n",
      "After intersection, testing set [0] statistics\n",
      "+---------+------------+------------+--------------+-----------------+\n",
      "|         | col_user   | col_item   | col_rating   | col_timestamp   |\n",
      "|---------+------------+------------+--------------+-----------------|\n",
      "| count   | 90678      | 90678      | 90678        | 90678           |\n",
      "| nunique | 1009       | 3347       | 6            | 1               |\n",
      "+---------+------------+------------+--------------+-----------------+\n",
      "After intersection, validation set [0] statistics\n",
      "+---------+------------+------------+--------------+-----------------+\n",
      "|         | col_user   | col_item   | col_rating   | col_timestamp   |\n",
      "|---------+------------+------------+--------------+-----------------|\n",
      "| count   | 29087      | 29087      | 29087        | 29087           |\n",
      "| nunique | 523        | 3019       | 6            | 1               |\n",
      "+---------+------------+------------+--------------+-----------------+\n",
      "Filling alias table\n",
      "Filling alias table\n"
     ]
    }
   ],
   "source": [
    "from beta_rec.recommenders import TiSASRec\n",
    "from beta_rec.datasets.movielens import Movielens_1m,Movielens_100k\n",
    "from beta_rec.data.sequential_data import SequentialData\n",
    "\n",
    "dataset = Movielens_1m()\n",
    "split_dataset = dataset.load_temporal_split(n_negative=10)\n",
    "data = SequentialData(split_dataset)"
   ]
  },
  {
   "cell_type": "markdown",
   "metadata": {},
   "source": [
    "### Model config"
   ]
  },
  {
   "cell_type": "code",
   "execution_count": 2,
   "metadata": {},
   "outputs": [],
   "source": [
    "config = {\"config_file\": \"../configs/tisasrec_default.json\",\n",
    "          \"device\":\"gpu\",\n",
    "          \"emb_dim\":32,\n",
    "          \"num_blocks\": 2,\n",
    "          \"num_heads\": 2,\n",
    "          \"time_span\": 128,\n",
    "          \"lr\": 0.5,\n",
    "          \"dropout_rate\":0.1\n",
    "         }\n",
    "# the 'config_file' key is required, that is used load a default config.\n",
    "# Other keys can be specified to replace the default settings."
   ]
  },
  {
   "cell_type": "markdown",
   "metadata": {},
   "source": [
    "### Model intialization and training"
   ]
  },
  {
   "cell_type": "code",
   "execution_count": null,
   "metadata": {
    "pycharm": {
     "is_executing": true
    }
   },
   "outputs": [
    {
     "name": "stdout",
     "output_type": "stream",
     "text": [
      "loading config file ../configs/tisasrec_default.json\n",
      "--------------------------------------------------------------------------------\n",
      "Received parameters from command line (or default):\n",
      "+----+--------------------+----------+\n",
      "|    | keys               | values   |\n",
      "|----+--------------------+----------|\n",
      "|  0 | system:device      | gpu      |\n",
      "|  1 | model:device       | gpu      |\n",
      "|  2 | model:emb_dim      | 32       |\n",
      "|  3 | model:num_blocks   | 2        |\n",
      "|  4 | model:num_heads    | 2        |\n",
      "|  5 | model:time_span    | 128      |\n",
      "|  6 | model:lr           | 0.5      |\n",
      "|  7 | model:dropout_rate | 0.1      |\n",
      "+----+--------------------+----------+\n",
      "--------------------------------------------------------------------------------\n",
      "logs will save in file: D:\\beta-recsys\\logs/TiSASRec_default_20210207_204812_ywbzxa .stdout.log .stderr.log\n",
      "2021-02-07 20:48:13 [INFO]-Python version: 3.8.3 (default, Jul  2 2020, 17:30:36) [MSC v.1916 64 bit (AMD64)]\n",
      "2021-02-07 20:48:13 [INFO]-pytorch version: 1.6.0+cu101\n",
      "2021-02-07 20:48:13 [INFO]-The intermediate running statuses will be reported in folder: D:\\beta-recsys\\runs/TiSASRec_default_20210207_204812_ywbzxa\n",
      "2021-02-07 20:48:13 [INFO]-Model checkpoint will save in file: D:\\beta-recsys\\checkpoints/TiSASRec_default_20210207_204812_ywbzxa\n",
      "2021-02-07 20:48:13 [INFO]-Performance result will save in file: D:\\beta-recsys\\results/tisasrec_result.csv\n",
      "2021-02-07 20:48:13 [INFO]---------------------------------------------------------------------------------\n",
      "2021-02-07 20:48:13 [INFO]-System configs\n",
      "2021-02-07 20:48:13 [INFO]-\n",
      "+----+----------------+--------------------------------------------------------------------+\n",
      "|    | keys           | values                                                             |\n",
      "|----+----------------+--------------------------------------------------------------------|\n",
      "|  0 | root_dir       | D:\\beta-recsys                                                     |\n",
      "|  1 | log_dir        | logs/                                                              |\n",
      "|  2 | result_dir     | results/                                                           |\n",
      "|  3 | process_dir    | D:\\beta-recsys\\processes/                                          |\n",
      "|  4 | checkpoint_dir | checkpoints/                                                       |\n",
      "|  5 | dataset_dir    | datasets/                                                          |\n",
      "|  6 | run_dir        | D:\\beta-recsys\\runs/TiSASRec_default_20210207_204812_ywbzxa        |\n",
      "|  7 | tune_dir       | D:\\beta-recsys\\tune_results/                                       |\n",
      "|  8 | device         | gpu                                                                |\n",
      "|  9 | seed           | 2020                                                               |\n",
      "| 10 | metrics        | ['ndcg', 'precision', 'recall', 'map']                             |\n",
      "| 11 | k              | [5, 10, 20]                                                        |\n",
      "| 12 | valid_metric   | ndcg                                                               |\n",
      "| 13 | valid_k        | 10                                                                 |\n",
      "| 14 | result_file    | D:\\beta-recsys\\results/tisasrec_result.csv                         |\n",
      "| 15 | save_mode      | average                                                            |\n",
      "| 16 | model_run_id   | TiSASRec_default_20210207_204812_ywbzxa                            |\n",
      "| 17 | log_file       | D:\\beta-recsys\\logs/TiSASRec_default_20210207_204812_ywbzxa        |\n",
      "| 18 | model_save_dir | D:\\beta-recsys\\checkpoints/TiSASRec_default_20210207_204812_ywbzxa |\n",
      "+----+----------------+--------------------------------------------------------------------\n",
      "2021-02-07 20:48:13 [INFO]-\n",
      "2021-02-07 20:48:13 [INFO]---------------------------------------------------------------------------------\n",
      "2021-02-07 20:48:13 [INFO]-Get a gpu with the most available memory : 0\n",
      "2021-02-07 20:48:13 [INFO]-port 8003 is available. start_http_server.\n",
      "2021-02-07 20:48:14 [INFO]-Initializing test engine ...\n",
      "2021-02-07 20:48:14 [INFO]-Get a gpu with the most available memory : 0\n",
      "2021-02-07 20:48:14 [INFO]-{'system': {'root_dir': 'D:\\\\beta-recsys', 'log_dir': 'logs/', 'result_dir': 'results/', 'process_dir': 'D:\\\\beta-recsys\\\\processes/', 'checkpoint_dir': 'checkpoints/', 'dataset_dir': 'datasets/', 'run_dir': 'D:\\\\beta-recsys\\\\runs/TiSASRec_default_20210207_204812_ywbzxa', 'tune_dir': 'D:\\\\beta-recsys\\\\tune_results/', 'device': 'gpu', 'seed': 2020, 'metrics': ['ndcg', 'precision', 'recall', 'map'], 'k': [5, 10, 20], 'valid_metric': 'ndcg', 'valid_k': 10, 'result_file': 'D:\\\\beta-recsys\\\\results/tisasrec_result.csv', 'save_mode': 'average', 'model_run_id': 'TiSASRec_default_20210207_204812_ywbzxa', 'log_file': 'D:\\\\beta-recsys\\\\logs/TiSASRec_default_20210207_204812_ywbzxa', 'model_save_dir': 'D:\\\\beta-recsys\\\\checkpoints/TiSASRec_default_20210207_204812_ywbzxa'}, 'dataset': {'dataset': 'ml_1m', 'data_split': 'temporal', 'test_rate': 0.2, 'download': False, 'random': False, 'by_user': False, 'n_test': 10, 'n_negative': 100, 'result_col': ['dataset', 'data_split', 'test_rate', 'n_negative']}, 'model': {'model': 'TiSASRec', 'config_id': 'default', 'time_span': 128, 'device': 'gpu', 'emb_dim': 32, 'num_blocks': 2, 'num_heads': 2, 'maxlen': 150, 'lr': 0.5, 'batch_size': 128, 'batch_eval': True, 'dropout_rate': 0.1, 'optimizer': 'adam', 'l2_emb': 0.1, 'max_epoch': 20, 'max_n_update': 20, 'save_name': 'tisasrec.model', 'result_col': ['model', 'emb_dim', 'time_span', 'batch_size', 'maxlen', 'optimizer', 'lr', 'l2_emb'], 'run_dir': 'D:\\\\beta-recsys\\\\runs/TiSASRec_default_20210207_204812_ywbzxa', 'device_str': 'cuda:0', 'n_users': 5400, 'n_items': 3497}, 'tunable': [{'name': 'emb_dim', 'type': 'choice', 'values': [32, 64]}, {'name': 'lr', 'type': 'choice', 'values': [1, 0.5, 0.3, 0.1, 0.001]}, {'name': 'lrnum_heads', 'type': 'choice', 'values': [1, 2]}, {'name': 'l2_emb', 'type': 'choice', 'values': [0.0001, 0.001, 0.01, 0.1, 1]}], 'device_str': 'cuda:0'}\n",
      "2021-02-07 20:48:14 [INFO]-Setting device for torch_engine cuda:0\n",
      "2021-02-07 20:48:16 [INFO]-\n",
      "TiSASRec(\n",
      "  (item_emb): Embedding(3498, 32, padding_idx=0)\n",
      "  (item_emb_dropout): Dropout(p=0.1, inplace=False)\n",
      "  (abs_pos_K_emb): Embedding(150, 32)\n",
      "  (abs_pos_V_emb): Embedding(150, 32)\n",
      "  (time_matrix_K_emb): Embedding(129, 32)\n",
      "  (time_matrix_V_emb): Embedding(129, 32)\n",
      "  (abs_pos_K_emb_dropout): Dropout(p=0.1, inplace=False)\n",
      "  (abs_pos_V_emb_dropout): Dropout(p=0.1, inplace=False)\n",
      "  (time_matrix_K_dropout): Dropout(p=0.1, inplace=False)\n",
      "  (time_matrix_V_dropout): Dropout(p=0.1, inplace=False)\n",
      "  (attention_layernorms): ModuleList(\n",
      "    (0): LayerNorm((32,), eps=1e-08, elementwise_affine=True)\n",
      "    (1): LayerNorm((32,), eps=1e-08, elementwise_affine=True)\n",
      "  )\n",
      "  (attention_layers): ModuleList(\n",
      "    (0): TimeAwareMultiHeadAttention(\n",
      "      (Q_w): Linear(in_features=32, out_features=32, bias=True)\n",
      "      (K_w): Linear(in_features=32, out_features=32, bias=True)\n",
      "      (V_w): Linear(in_features=32, out_features=32, bias=True)\n",
      "      (dropout): Dropout(p=0.1, inplace=False)\n",
      "      (softmax): Softmax(dim=-1)\n",
      "    )\n",
      "    (1): TimeAwareMultiHeadAttention(\n",
      "      (Q_w): Linear(in_features=32, out_features=32, bias=True)\n",
      "      (K_w): Linear(in_features=32, out_features=32, bias=True)\n",
      "      (V_w): Linear(in_features=32, out_features=32, bias=True)\n",
      "      (dropout): Dropout(p=0.1, inplace=False)\n",
      "      (softmax): Softmax(dim=-1)\n",
      "    )\n",
      "  )\n",
      "  (forward_layernorms): ModuleList(\n",
      "    (0): LayerNorm((32,), eps=1e-08, elementwise_affine=True)\n",
      "    (1): LayerNorm((32,), eps=1e-08, elementwise_affine=True)\n",
      "  )\n",
      "  (forward_layers): ModuleList(\n",
      "    (0): PointWiseFeedForward(\n",
      "      (conv1): Conv1d(32, 32, kernel_size=(1,), stride=(1,))\n",
      "      (dropout1): Dropout(p=0.1, inplace=False)\n",
      "      (relu): ReLU()\n",
      "      (conv2): Conv1d(32, 32, kernel_size=(1,), stride=(1,))\n",
      "      (dropout2): Dropout(p=0.1, inplace=False)\n",
      "    )\n",
      "    (1): PointWiseFeedForward(\n",
      "      (conv1): Conv1d(32, 32, kernel_size=(1,), stride=(1,))\n",
      "      (dropout1): Dropout(p=0.1, inplace=False)\n",
      "      (relu): ReLU()\n",
      "      (conv2): Conv1d(32, 32, kernel_size=(1,), stride=(1,))\n",
      "      (dropout2): Dropout(p=0.1, inplace=False)\n",
      "    )\n",
      "  )\n",
      "  (last_layernorm): LayerNorm((32,), eps=1e-08, elementwise_affine=True)\n",
      "\n",
      "2021-02-07 20:48:16 [INFO]-\n",
      "2021-02-07 20:48:19 [INFO]-Preparing data...\n",
      "2021-02-07 20:48:26 [INFO]-Preparing done...\n",
      "  0%|          | 0/20 [00:00<?, ?it/s]Epoch 0 starts !\n",
      "2021-02-07 20:51:02 [INFO]---------------------------------------------------------------------------------\n",
      "  0%|          | 0/20 [00:04<?, ?it/s]\n"
     ]
    },
    {
     "name": "stderr",
     "output_type": "stream",
     "text": [
      "Preparing relation matrix: 100%|##########| 6040/6040 [02:11<00:00, 46.05it/s]\n"
     ]
    }
   ],
   "source": [
    "model = TiSASRec(config)\n",
    "model.train(data)"
   ]
  },
  {
   "cell_type": "markdown",
   "metadata": {},
   "source": [
    "### Model Tuning"
   ]
  },
  {
   "cell_type": "code",
   "execution_count": null,
   "metadata": {},
   "outputs": [],
   "source": []
  }
 ],
 "metadata": {
  "kernelspec": {
   "name": "python3",
   "language": "python",
   "display_name": "Python 3"
  },
  "language_info": {
   "codemirror_mode": {
    "name": "ipython",
    "version": 3
   },
   "file_extension": ".py",
   "mimetype": "text/x-python",
   "name": "python",
   "nbconvert_exporter": "python",
   "pygments_lexer": "ipython3",
   "version": "3.6.9"
  }
 },
 "nbformat": 4,
 "nbformat_minor": 4
}